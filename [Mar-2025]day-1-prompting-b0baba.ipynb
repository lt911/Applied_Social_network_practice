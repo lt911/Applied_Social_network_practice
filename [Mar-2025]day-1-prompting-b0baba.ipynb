{
 "cells": [
  {
   "cell_type": "markdown",
   "id": "ea44de50",
   "metadata": {
    "id": "jkxRSYjzA1oX",
    "papermill": {
     "duration": 0.014964,
     "end_time": "2025-03-31T19:22:19.766299",
     "exception": false,
     "start_time": "2025-03-31T19:22:19.751335",
     "status": "completed"
    },
    "tags": []
   },
   "source": [
    "##### Copyright 2025 Google LLC."
   ]
  },
  {
   "cell_type": "code",
   "execution_count": 1,
   "id": "4196f120",
   "metadata": {
    "cellView": "form",
    "execution": {
     "iopub.execute_input": "2025-03-31T19:22:19.794855Z",
     "iopub.status.busy": "2025-03-31T19:22:19.794295Z",
     "iopub.status.idle": "2025-03-31T19:22:19.801310Z",
     "shell.execute_reply": "2025-03-31T19:22:19.800038Z"
    },
    "id": "5u5OZ2ShA3BA",
    "jupyter": {
     "source_hidden": true
    },
    "papermill": {
     "duration": 0.024749,
     "end_time": "2025-03-31T19:22:19.803750",
     "exception": false,
     "start_time": "2025-03-31T19:22:19.779001",
     "status": "completed"
    },
    "tags": []
   },
   "outputs": [],
   "source": [
    "# @title Licensed under the Apache License, Version 2.0 (the \"License\");\n",
    "# you may not use this file except in compliance with the License.\n",
    "# You may obtain a copy of the License at\n",
    "#\n",
    "# https://www.apache.org/licenses/LICENSE-2.0\n",
    "#\n",
    "# Unless required by applicable law or agreed to in writing, software\n",
    "# distributed under the License is distributed on an \"AS IS\" BASIS,\n",
    "# WITHOUT WARRANTIES OR CONDITIONS OF ANY KIND, either express or implied.\n",
    "# See the License for the specific language governing permissions and\n",
    "# limitations under the License."
   ]
  },
  {
   "cell_type": "markdown",
   "id": "d4340cc4",
   "metadata": {
    "id": "csNPnkuCobmG",
    "papermill": {
     "duration": 0.012215,
     "end_time": "2025-03-31T19:22:19.828562",
     "exception": false,
     "start_time": "2025-03-31T19:22:19.816347",
     "status": "completed"
    },
    "tags": []
   },
   "source": [
    "# Day 1 - Prompting\n",
    "\n",
    "Welcome to the Kaggle 5-day Generative AI course!\n",
    "\n",
    "This notebook will show you how to get started with the Gemini API and walk you through some of the example prompts and techniques that you can also read about in the Prompting whitepaper. You don't need to read the whitepaper to use this notebook, but the papers will give you some theoretical context and background to complement this interactive notebook.\n",
    "\n",
    "\n",
    "## Before you begin\n",
    "\n",
    "In this notebook, you'll start exploring prompting using the Python SDK and AI Studio. For some inspiration, you might enjoy exploring some apps that have been built using the Gemini family of models. Here are a few that we like, and we think you will too.\n",
    "\n",
    "* [TextFX](https://textfx.withgoogle.com/) is a suite of AI-powered tools for rappers, made in collaboration with Lupe Fiasco,\n",
    "* [SQL Talk](https://sql-talk-r5gdynozbq-uc.a.run.app/) shows how you can talk directly to a database using the Gemini API,\n",
    "* [NotebookLM](https://notebooklm.google/) uses Gemini models to build your own personal AI research assistant.\n",
    "\n",
    "\n",
    "## For help\n",
    "\n",
    "**Common issues are covered in the [FAQ and troubleshooting guide](https://www.kaggle.com/code/markishere/day-0-troubleshooting-and-faqs).**\n",
    "\n",
    "## New for Gemini 2.0!\n",
    "\n",
    "This course material was first launched in November 2024. The AI and LLM space is moving incredibly fast, so we have made some updates to use the latest models and capabilities.\n",
    "\n",
    "* These codelabs have been updated to use the Gemini 2.0 family of models.\n",
    "* The Python SDK has been updated from `google-generativeai` to the new, unified [`google-genai`](https://pypi.org/project/google-genai) SDK.\n",
    "  * This new SDK works with both the developer Gemini API as well as Google Cloud Vertex AI, and switching is [as simple as changing some fields](https://pypi.org/project/google-genai/#:~:text=.Client%28%29-,API%20Selection,-By%20default%2C%20the).\n",
    "* New model capabilities have been added to the relevant codelabs, such as \"thinking mode\" in this lab.\n",
    "* Day 1 includes a new [Evaluation codelab](https://www.kaggle.com/code/markishere/day-1-evaluation-and-structured-output)."
   ]
  },
  {
   "attachments": {
    "d8299597-f771-4195-ac94-1d6f658ef2bd.png": {
     "image/png": "[encoded data removed]"
    },
    "ed25e346-2e15-4ab0-bc22-503eb1845e66.png": {
     "image/png": "[encoded data removed]"
    }
   },
   "cell_type": "markdown",
   "id": "1a9e5d42",
   "metadata": {
    "id": "f00ea7c99e44",
    "papermill": {
     "duration": 0.012106,
     "end_time": "2025-03-31T19:22:19.853102",
     "exception": false,
     "start_time": "2025-03-31T19:22:19.840996",
     "status": "completed"
    },
    "tags": []
   },
   "source": [
    "## Get started with Kaggle notebooks\n",
    "\n",
    "If this is your first time using a Kaggle notebook, welcome! You can read about how to use Kaggle notebooks [in the docs](https://www.kaggle.com/docs/notebooks).\n",
    "\n",
    "First, you will need to phone verify your account at kaggle.com/settings.\n",
    "\n",
    "![](https://storage.googleapis.com/kaggle-media/Images/5dgai_0.png)"
   ]
  },
  {
   "cell_type": "markdown",
   "id": "65e2b3ce",
   "metadata": {
    "papermill": {
     "duration": 0.012054,
     "end_time": "2025-03-31T19:22:19.877573",
     "exception": false,
     "start_time": "2025-03-31T19:22:19.865519",
     "status": "completed"
    },
    "tags": []
   },
   "source": [
    "To run this notebook, as well as the others in this course, you will need to make a copy, or fork, the notebook. Look for the `Copy and Edit` button in the top-right, and **click it** to make an editable, private copy of the notebook. It should look like this one:\n",
    "\n",
    "![Copy and Edit button](https://storage.googleapis.com/kaggle-media/Images/5gdai_sc_1.png)\n",
    "\n",
    "Your copy will now have a ▶️ **Run** button next to each code cell that you can press to execute that cell. These notebooks are expected to be run in order from top-to-bottom, but you are encouraged to add new cells, run your own code and explore. If you get stuck, you can try the `Factory reset` option in the `Run` menu, or head back to the original notebook and make a fresh copy.\n",
    "\n",
    "![Run cell button](https://storage.googleapis.com/kaggle-media/Images/5gdai_sc_2.png)\n",
    "\n",
    "### Problems?\n",
    "\n",
    "If you have any problems, head over to the [Kaggle Discord](https://discord.com/invite/kaggle), find the [`#5dgai-q-and-a` channel](https://discord.com/channels/1101210829807956100/1303438695143178251) and ask for help."
   ]
  },
  {
   "cell_type": "markdown",
   "id": "a9fc4e5c",
   "metadata": {
    "id": "ExkOXcPxtTb5",
    "papermill": {
     "duration": 0.012026,
     "end_time": "2025-03-31T19:22:19.901983",
     "exception": false,
     "start_time": "2025-03-31T19:22:19.889957",
     "status": "completed"
    },
    "tags": []
   },
   "source": [
    "## Get started with the Gemini API\n",
    "\n",
    "All of the exercises in this notebook will use the [Gemini API](https://ai.google.dev/gemini-api/) by way of the [Python SDK](https://pypi.org/project/google-genai/). Each of these prompts can be accessed directly in [Google AI Studio](https://aistudio.google.com/) too, so if you would rather use a web interface and skip the code for this activity, look for the <img src=\"https://ai.google.dev/site-assets/images/marketing/home/icon-ais.png\" style=\"height: 24px\" height=24/> AI Studio link on each prompt."
   ]
  },
  {
   "cell_type": "markdown",
   "id": "6164a0f8",
   "metadata": {
    "papermill": {
     "duration": 0.011943,
     "end_time": "2025-03-31T19:22:19.926628",
     "exception": false,
     "start_time": "2025-03-31T19:22:19.914685",
     "status": "completed"
    },
    "tags": []
   },
   "source": [
    "Next, you will need to add your API key to your Kaggle Notebook as a Kaggle User Secret.\n",
    "\n",
    "![](https://storage.googleapis.com/kaggle-media/Images/5dgai_1.png)\n",
    "![](https://storage.googleapis.com/kaggle-media/Images/5dgai_2.png)\n",
    "![](https://storage.googleapis.com/kaggle-media/Images/5dgai_3.png)\n",
    "![](https://storage.googleapis.com/kaggle-media/Images/5dgai_4.png)"
   ]
  },
  {
   "cell_type": "markdown",
   "id": "418efff9",
   "metadata": {
    "id": "UAjUV3BsvFXQ",
    "papermill": {
     "duration": 0.012315,
     "end_time": "2025-03-31T19:22:19.951210",
     "exception": false,
     "start_time": "2025-03-31T19:22:19.938895",
     "status": "completed"
    },
    "tags": []
   },
   "source": [
    "### Install the SDK"
   ]
  },
  {
   "cell_type": "code",
   "execution_count": 2,
   "id": "6146a379",
   "metadata": {
    "execution": {
     "iopub.execute_input": "2025-03-31T19:22:19.979159Z",
     "iopub.status.busy": "2025-03-31T19:22:19.978074Z",
     "iopub.status.idle": "2025-03-31T19:22:40.776542Z",
     "shell.execute_reply": "2025-03-31T19:22:40.775031Z"
    },
    "id": "NzwzJFU9LqkJ",
    "papermill": {
     "duration": 20.815492,
     "end_time": "2025-03-31T19:22:40.779257",
     "exception": false,
     "start_time": "2025-03-31T19:22:19.963765",
     "status": "completed"
    },
    "tags": []
   },
   "outputs": [],
   "source": [
    "!pip uninstall -qqy jupyterlab  # Remove unused packages from Kaggle's base image that conflict\n",
    "!pip install -U -q \"google-genai==1.7.0\""
   ]
  },
  {
   "cell_type": "markdown",
   "id": "e7cd486f",
   "metadata": {
    "papermill": {
     "duration": 0.011861,
     "end_time": "2025-03-31T19:22:40.803361",
     "exception": false,
     "start_time": "2025-03-31T19:22:40.791500",
     "status": "completed"
    },
    "tags": []
   },
   "source": [
    "Import the SDK and some helpers for rendering the output."
   ]
  },
  {
   "cell_type": "code",
   "execution_count": 3,
   "id": "921d7a0a",
   "metadata": {
    "execution": {
     "iopub.execute_input": "2025-03-31T19:22:40.829707Z",
     "iopub.status.busy": "2025-03-31T19:22:40.829262Z",
     "iopub.status.idle": "2025-03-31T19:22:42.289850Z",
     "shell.execute_reply": "2025-03-31T19:22:42.288342Z"
    },
    "id": "5DwxYIRavMST",
    "papermill": {
     "duration": 1.476886,
     "end_time": "2025-03-31T19:22:42.292482",
     "exception": false,
     "start_time": "2025-03-31T19:22:40.815596",
     "status": "completed"
    },
    "tags": []
   },
   "outputs": [],
   "source": [
    "from google import genai\n",
    "from google.genai import types\n",
    "\n",
    "from IPython.display import HTML, Markdown, display"
   ]
  },
  {
   "cell_type": "markdown",
   "id": "d653eda6",
   "metadata": {
    "papermill": {
     "duration": 0.012035,
     "end_time": "2025-03-31T19:22:42.316910",
     "exception": false,
     "start_time": "2025-03-31T19:22:42.304875",
     "status": "completed"
    },
    "tags": []
   },
   "source": [
    "Set up a retry helper. This allows you to \"Run all\" without worrying about per-minute quota."
   ]
  },
  {
   "cell_type": "code",
   "execution_count": 4,
   "id": "760d5393",
   "metadata": {
    "execution": {
     "iopub.execute_input": "2025-03-31T19:22:42.343744Z",
     "iopub.status.busy": "2025-03-31T19:22:42.343082Z",
     "iopub.status.idle": "2025-03-31T19:22:42.569713Z",
     "shell.execute_reply": "2025-03-31T19:22:42.568429Z"
    },
    "papermill": {
     "duration": 0.243159,
     "end_time": "2025-03-31T19:22:42.572313",
     "exception": false,
     "start_time": "2025-03-31T19:22:42.329154",
     "status": "completed"
    },
    "tags": []
   },
   "outputs": [],
   "source": [
    "from google.api_core import retry\n",
    "\n",
    "\n",
    "is_retriable = lambda e: (isinstance(e, genai.errors.APIError) and e.code in {429, 503})\n",
    "\n",
    "genai.models.Models.generate_content = retry.Retry(\n",
    "    predicate=is_retriable)(genai.models.Models.generate_content)"
   ]
  },
  {
   "cell_type": "markdown",
   "id": "0c335c42",
   "metadata": {
    "id": "DNEt2BCOvOJ1",
    "papermill": {
     "duration": 0.012809,
     "end_time": "2025-03-31T19:22:42.597574",
     "exception": false,
     "start_time": "2025-03-31T19:22:42.584765",
     "status": "completed"
    },
    "tags": []
   },
   "source": [
    "### Set up your API key\n",
    "\n",
    "To run the following cell, your API key must be stored it in a [Kaggle secret](https://www.kaggle.com/discussions/product-feedback/114053) named `GOOGLE_API_KEY`.\n",
    "\n",
    "If you don't already have an API key, you can grab one from [AI Studio](https://aistudio.google.com/app/apikey). You can find [detailed instructions in the docs](https://ai.google.dev/gemini-api/docs/api-key).\n",
    "\n",
    "To make the key available through Kaggle secrets, choose `Secrets` from the `Add-ons` menu and follow the instructions to add your key or enable it for this notebook."
   ]
  },
  {
   "cell_type": "code",
   "execution_count": 5,
   "id": "5b2819b5",
   "metadata": {
    "execution": {
     "iopub.execute_input": "2025-03-31T19:22:42.624981Z",
     "iopub.status.busy": "2025-03-31T19:22:42.623447Z",
     "iopub.status.idle": "2025-03-31T19:22:42.782792Z",
     "shell.execute_reply": "2025-03-31T19:22:42.781697Z"
    },
    "id": "SHl0bkPCvayd",
    "papermill": {
     "duration": 0.17574,
     "end_time": "2025-03-31T19:22:42.785583",
     "exception": false,
     "start_time": "2025-03-31T19:22:42.609843",
     "status": "completed"
    },
    "tags": []
   },
   "outputs": [],
   "source": [
    "from kaggle_secrets import UserSecretsClient\n",
    "\n",
    "GOOGLE_API_KEY = UserSecretsClient().get_secret(\"GOOGLE_API_KEY\")"
   ]
  },
  {
   "attachments": {
    "d2be9aab-2527-48af-b6cf-1f06cdd7c3a7.png": {
     "image/png": "[encoded data removed]"
    }
   },
   "cell_type": "markdown",
   "id": "cdc7bdf0",
   "metadata": {
    "id": "4e720472fd86",
    "papermill": {
     "duration": 0.012292,
     "end_time": "2025-03-31T19:22:42.810866",
     "exception": false,
     "start_time": "2025-03-31T19:22:42.798574",
     "status": "completed"
    },
    "tags": []
   },
   "source": [
    "If you received an error response along the lines of `No user secrets exist for kernel id ...`, then you need to add your API key via `Add-ons`, `Secrets` **and** enable it.\n",
    "\n",
    "![Screenshot of the checkbox to enable GOOGLE_API_KEY secret](https://storage.googleapis.com/kaggle-media/Images/5gdai_sc_3.png)"
   ]
  },
  {
   "cell_type": "markdown",
   "id": "4d3f9981",
   "metadata": {
    "id": "H_YXCYIKvyZJ",
    "papermill": {
     "duration": 0.01233,
     "end_time": "2025-03-31T19:22:42.835866",
     "exception": false,
     "start_time": "2025-03-31T19:22:42.823536",
     "status": "completed"
    },
    "tags": []
   },
   "source": [
    "### Run your first prompt\n",
    "\n",
    "In this step, you will test that your API key is set up correctly by making a request.\n",
    "\n",
    "The Python SDK uses a [`Client` object](https://googleapis.github.io/python-genai/genai.html#genai.client.Client) to make requests to the API. The client lets you control which back-end to use (between the Gemini API and Vertex AI) and handles authentication (the API key).\n",
    "\n",
    "The `gemini-2.0-flash` model has been selected here.\n",
    "\n",
    "**Note**: If you see a `TransportError` on this step, you may need to **🔁 Factory reset** the notebook one time."
   ]
  },
  {
   "cell_type": "code",
   "execution_count": 6,
   "id": "222c80c4",
   "metadata": {
    "execution": {
     "iopub.execute_input": "2025-03-31T19:22:42.864141Z",
     "iopub.status.busy": "2025-03-31T19:22:42.863714Z",
     "iopub.status.idle": "2025-03-31T19:22:44.878205Z",
     "shell.execute_reply": "2025-03-31T19:22:44.876734Z"
    },
    "id": "BV1o0PmcvyJF",
    "papermill": {
     "duration": 2.03233,
     "end_time": "2025-03-31T19:22:44.881230",
     "exception": false,
     "start_time": "2025-03-31T19:22:42.848900",
     "status": "completed"
    },
    "tags": []
   },
   "outputs": [
    {
     "name": "stdout",
     "output_type": "stream",
     "text": [
      "Imagine you have a really, really smart parrot. But instead of just repeating what you say, this parrot can learn things on its own!\n",
      "\n",
      "That's kind of like AI! It stands for Artificial Intelligence, which is a fancy way of saying \"making computers smart.\"\n",
      "\n",
      "Think about it:\n",
      "\n",
      "*   **Learning:** You can show the parrot lots of pictures of cats and dogs, and after a while, it can tell the difference between them all by itself! That's AI learning!\n",
      "*   **Making Choices:** You can teach the parrot to give you a toy when you're sad and a treat when you're happy. That's AI making choices based on what it learned!\n",
      "*   **Helping Us:** Your parrot could even learn to tell you the weather or remind you to brush your teeth! That's AI helping us with everyday things!\n",
      "\n",
      "So, AI is like giving a computer a brain that can learn, make choices, and help us do things better and faster. It's like having a super-smart parrot that can do way more than just talk!\n",
      "\n",
      "AI can be used in all sorts of ways, like in video games to make the characters smarter, in phones to understand your voice, and even in cars to help them drive themselves!\n",
      "\n"
     ]
    }
   ],
   "source": [
    "client = genai.Client(api_key=GOOGLE_API_KEY)\n",
    "\n",
    "response = client.models.generate_content(\n",
    "    model=\"gemini-2.0-flash\",\n",
    "    contents=\"Explain AI to me like I'm a kid.\")\n",
    "\n",
    "print(response.text)"
   ]
  },
  {
   "cell_type": "markdown",
   "id": "f649024b",
   "metadata": {
    "id": "f60ed9d8ae41",
    "papermill": {
     "duration": 0.012808,
     "end_time": "2025-03-31T19:22:44.907294",
     "exception": false,
     "start_time": "2025-03-31T19:22:44.894486",
     "status": "completed"
    },
    "tags": []
   },
   "source": [
    "The response often comes back in markdown format, which you can render directly in this notebook."
   ]
  },
  {
   "cell_type": "code",
   "execution_count": 7,
   "id": "3e755935",
   "metadata": {
    "execution": {
     "iopub.execute_input": "2025-03-31T19:22:44.937449Z",
     "iopub.status.busy": "2025-03-31T19:22:44.936438Z",
     "iopub.status.idle": "2025-03-31T19:22:44.945344Z",
     "shell.execute_reply": "2025-03-31T19:22:44.944009Z"
    },
    "id": "c933e5e460a5",
    "papermill": {
     "duration": 0.025455,
     "end_time": "2025-03-31T19:22:44.947623",
     "exception": false,
     "start_time": "2025-03-31T19:22:44.922168",
     "status": "completed"
    },
    "tags": []
   },
   "outputs": [
    {
     "data": {
      "text/markdown": [
       "Imagine you have a really, really smart parrot. But instead of just repeating what you say, this parrot can learn things on its own!\n",
       "\n",
       "That's kind of like AI! It stands for Artificial Intelligence, which is a fancy way of saying \"making computers smart.\"\n",
       "\n",
       "Think about it:\n",
       "\n",
       "*   **Learning:** You can show the parrot lots of pictures of cats and dogs, and after a while, it can tell the difference between them all by itself! That's AI learning!\n",
       "*   **Making Choices:** You can teach the parrot to give you a toy when you're sad and a treat when you're happy. That's AI making choices based on what it learned!\n",
       "*   **Helping Us:** Your parrot could even learn to tell you the weather or remind you to brush your teeth! That's AI helping us with everyday things!\n",
       "\n",
       "So, AI is like giving a computer a brain that can learn, make choices, and help us do things better and faster. It's like having a super-smart parrot that can do way more than just talk!\n",
       "\n",
       "AI can be used in all sorts of ways, like in video games to make the characters smarter, in phones to understand your voice, and even in cars to help them drive themselves!\n"
      ],
      "text/plain": [
       "<IPython.core.display.Markdown object>"
      ]
     },
     "execution_count": 7,
     "metadata": {},
     "output_type": "execute_result"
    }
   ],
   "source": [
    "Markdown(response.text)"
   ]
  },
  {
   "cell_type": "markdown",
   "id": "86ca516f",
   "metadata": {
    "id": "byx0pT9ZMW2Q",
    "papermill": {
     "duration": 0.012792,
     "end_time": "2025-03-31T19:22:44.973678",
     "exception": false,
     "start_time": "2025-03-31T19:22:44.960886",
     "status": "completed"
    },
    "tags": []
   },
   "source": [
    "### Start a chat\n",
    "\n",
    "The previous example uses a single-turn, text-in/text-out structure, but you can also set up a multi-turn chat structure too."
   ]
  },
  {
   "cell_type": "code",
   "execution_count": 8,
   "id": "7b190c4e",
   "metadata": {
    "execution": {
     "iopub.execute_input": "2025-03-31T19:22:45.003068Z",
     "iopub.status.busy": "2025-03-31T19:22:45.001627Z",
     "iopub.status.idle": "2025-03-31T19:22:45.446547Z",
     "shell.execute_reply": "2025-03-31T19:22:45.444924Z"
    },
    "id": "lV_S5ZL5MidD",
    "papermill": {
     "duration": 0.462778,
     "end_time": "2025-03-31T19:22:45.449549",
     "exception": false,
     "start_time": "2025-03-31T19:22:44.986771",
     "status": "completed"
    },
    "tags": []
   },
   "outputs": [
    {
     "name": "stdout",
     "output_type": "stream",
     "text": [
      "Greetings, Zlork! It's a pleasure to meet you. Is there anything I can help you with today?\n",
      "\n"
     ]
    }
   ],
   "source": [
    "chat = client.chats.create(model='gemini-2.0-flash', history=[])\n",
    "response = chat.send_message('Hello! My name is Zlork.')\n",
    "print(response.text)"
   ]
  },
  {
   "cell_type": "code",
   "execution_count": 9,
   "id": "20d91e48",
   "metadata": {
    "execution": {
     "iopub.execute_input": "2025-03-31T19:22:45.477137Z",
     "iopub.status.busy": "2025-03-31T19:22:45.476686Z",
     "iopub.status.idle": "2025-03-31T19:22:46.560152Z",
     "shell.execute_reply": "2025-03-31T19:22:46.558671Z"
    },
    "id": "7b0372c3c64a",
    "papermill": {
     "duration": 1.100429,
     "end_time": "2025-03-31T19:22:46.562830",
     "exception": false,
     "start_time": "2025-03-31T19:22:45.462401",
     "status": "completed"
    },
    "tags": []
   },
   "outputs": [
    {
     "name": "stdout",
     "output_type": "stream",
     "text": [
      "Okay, Zlork, here's an interesting fact about dinosaurs that often surprises people:\n",
      "\n",
      "**Birds are direct descendants of theropod dinosaurs!**\n",
      "\n",
      "That's right, the chickens, robins, and eagles you see today are actually the closest living relatives of the mighty Tyrannosaurus Rex and Velociraptor. Scientists have found increasing fossil evidence that supports this, including skeletal similarities, feathers, and even the way they brood their eggs. So, the next time you see a bird, remember you're looking at a modern-day dinosaur!\n",
      "\n",
      "Did you find that interesting? Would you like to know something else?\n",
      "\n"
     ]
    }
   ],
   "source": [
    "response = chat.send_message('Can you tell me something interesting about dinosaurs?')\n",
    "print(response.text)"
   ]
  },
  {
   "cell_type": "markdown",
   "id": "ba43cddc",
   "metadata": {
    "papermill": {
     "duration": 0.012399,
     "end_time": "2025-03-31T19:22:46.588717",
     "exception": false,
     "start_time": "2025-03-31T19:22:46.576318",
     "status": "completed"
    },
    "tags": []
   },
   "source": [
    "While you have the `chat` object alive, the conversation state\n",
    "persists. Confirm that by asking if it knows the user's name."
   ]
  },
  {
   "cell_type": "code",
   "execution_count": 10,
   "id": "953c66ba",
   "metadata": {
    "execution": {
     "iopub.execute_input": "2025-03-31T19:22:46.616965Z",
     "iopub.status.busy": "2025-03-31T19:22:46.615859Z",
     "iopub.status.idle": "2025-03-31T19:22:47.077382Z",
     "shell.execute_reply": "2025-03-31T19:22:47.075899Z"
    },
    "id": "d3f9591392a7",
    "papermill": {
     "duration": 0.478367,
     "end_time": "2025-03-31T19:22:47.079812",
     "exception": false,
     "start_time": "2025-03-31T19:22:46.601445",
     "status": "completed"
    },
    "tags": []
   },
   "outputs": [
    {
     "name": "stdout",
     "output_type": "stream",
     "text": [
      "Yes, Zlork, I remember your name. You introduced yourself as Zlork at the beginning of our conversation.\n",
      "\n"
     ]
    }
   ],
   "source": [
    "response = chat.send_message('Do you remember what my name is?')\n",
    "print(response.text)"
   ]
  },
  {
   "cell_type": "markdown",
   "id": "3d4713cb",
   "metadata": {
    "id": "2KAjpr1200sW",
    "papermill": {
     "duration": 0.012505,
     "end_time": "2025-03-31T19:22:47.105065",
     "exception": false,
     "start_time": "2025-03-31T19:22:47.092560",
     "status": "completed"
    },
    "tags": []
   },
   "source": [
    "### Choose a model\n",
    "\n",
    "The Gemini API provides access to a number of models from the Gemini model family. Read about the available models and their capabilities on the [model overview page](https://ai.google.dev/gemini-api/docs/models/gemini).\n",
    "\n",
    "In this step you'll use the API to list all of the available models."
   ]
  },
  {
   "cell_type": "code",
   "execution_count": 11,
   "id": "e7b78ba9",
   "metadata": {
    "execution": {
     "iopub.execute_input": "2025-03-31T19:22:47.132219Z",
     "iopub.status.busy": "2025-03-31T19:22:47.131848Z",
     "iopub.status.idle": "2025-03-31T19:22:47.192224Z",
     "shell.execute_reply": "2025-03-31T19:22:47.190902Z"
    },
    "id": "uUUZa2uq2jDm",
    "papermill": {
     "duration": 0.076918,
     "end_time": "2025-03-31T19:22:47.194767",
     "exception": false,
     "start_time": "2025-03-31T19:22:47.117849",
     "status": "completed"
    },
    "tags": []
   },
   "outputs": [
    {
     "name": "stdout",
     "output_type": "stream",
     "text": [
      "models/chat-bison-001\n",
      "models/text-bison-001\n",
      "models/embedding-gecko-001\n",
      "models/gemini-1.0-pro-vision-latest\n",
      "models/gemini-pro-vision\n",
      "models/gemini-1.5-pro-latest\n",
      "models/gemini-1.5-pro-001\n",
      "models/gemini-1.5-pro-002\n",
      "models/gemini-1.5-pro\n",
      "models/gemini-1.5-flash-latest\n",
      "models/gemini-1.5-flash-001\n",
      "models/gemini-1.5-flash-001-tuning\n",
      "models/gemini-1.5-flash\n",
      "models/gemini-1.5-flash-002\n",
      "models/gemini-1.5-flash-8b\n",
      "models/gemini-1.5-flash-8b-001\n",
      "models/gemini-1.5-flash-8b-latest\n",
      "models/gemini-1.5-flash-8b-exp-0827\n",
      "models/gemini-1.5-flash-8b-exp-0924\n",
      "models/gemini-2.5-pro-exp-03-25\n",
      "models/gemini-2.0-flash-exp\n",
      "models/gemini-2.0-flash\n",
      "models/gemini-2.0-flash-001\n",
      "models/gemini-2.0-flash-exp-image-generation\n",
      "models/gemini-2.0-flash-lite-001\n",
      "models/gemini-2.0-flash-lite\n",
      "models/gemini-2.0-flash-lite-preview-02-05\n",
      "models/gemini-2.0-flash-lite-preview\n",
      "models/gemini-2.0-pro-exp\n",
      "models/gemini-2.0-pro-exp-02-05\n",
      "models/gemini-exp-1206\n",
      "models/gemini-2.0-flash-thinking-exp-01-21\n",
      "models/gemini-2.0-flash-thinking-exp\n",
      "models/gemini-2.0-flash-thinking-exp-1219\n",
      "models/learnlm-1.5-pro-experimental\n",
      "models/gemma-3-27b-it\n",
      "models/embedding-001\n",
      "models/text-embedding-004\n",
      "models/gemini-embedding-exp-03-07\n",
      "models/gemini-embedding-exp\n",
      "models/aqa\n",
      "models/imagen-3.0-generate-002\n"
     ]
    }
   ],
   "source": [
    "for model in client.models.list():\n",
    "  print(model.name)"
   ]
  },
  {
   "cell_type": "markdown",
   "id": "01b8f088",
   "metadata": {
    "id": "rN49kSI54R1v",
    "papermill": {
     "duration": 0.01332,
     "end_time": "2025-03-31T19:22:47.221565",
     "exception": false,
     "start_time": "2025-03-31T19:22:47.208245",
     "status": "completed"
    },
    "tags": []
   },
   "source": [
    "The [`models.list`](https://ai.google.dev/api/models#method:-models.list) response also returns additional information about the model's capabilities, like the token limits and supported parameters."
   ]
  },
  {
   "cell_type": "code",
   "execution_count": 12,
   "id": "ca737dd5",
   "metadata": {
    "execution": {
     "iopub.execute_input": "2025-03-31T19:22:47.249331Z",
     "iopub.status.busy": "2025-03-31T19:22:47.248908Z",
     "iopub.status.idle": "2025-03-31T19:22:47.414156Z",
     "shell.execute_reply": "2025-03-31T19:22:47.412865Z"
    },
    "id": "k7JJ1K6j4Rl8",
    "papermill": {
     "duration": 0.182248,
     "end_time": "2025-03-31T19:22:47.416683",
     "exception": false,
     "start_time": "2025-03-31T19:22:47.234435",
     "status": "completed"
    },
    "tags": []
   },
   "outputs": [
    {
     "name": "stdout",
     "output_type": "stream",
     "text": [
      "{'description': 'Gemini 2.0 Flash',\n",
      " 'display_name': 'Gemini 2.0 Flash',\n",
      " 'input_token_limit': 1048576,\n",
      " 'name': 'models/gemini-2.0-flash',\n",
      " 'output_token_limit': 8192,\n",
      " 'supported_actions': ['generateContent', 'countTokens'],\n",
      " 'tuned_model_info': {},\n",
      " 'version': '2.0'}\n"
     ]
    }
   ],
   "source": [
    "from pprint import pprint\n",
    "\n",
    "for model in client.models.list():\n",
    "  if model.name == 'models/gemini-2.0-flash':\n",
    "    pprint(model.to_json_dict())\n",
    "    break"
   ]
  },
  {
   "cell_type": "markdown",
   "id": "a791daca",
   "metadata": {
    "id": "5rU_UBlZdooM",
    "papermill": {
     "duration": 0.012504,
     "end_time": "2025-03-31T19:22:47.441856",
     "exception": false,
     "start_time": "2025-03-31T19:22:47.429352",
     "status": "completed"
    },
    "tags": []
   },
   "source": [
    "## Explore generation parameters\n",
    "\n"
   ]
  },
  {
   "cell_type": "markdown",
   "id": "faeb981b",
   "metadata": {
    "id": "G7NfEizeipbW",
    "papermill": {
     "duration": 0.012452,
     "end_time": "2025-03-31T19:22:47.466935",
     "exception": false,
     "start_time": "2025-03-31T19:22:47.454483",
     "status": "completed"
    },
    "tags": []
   },
   "source": [
    "### Output length\n",
    "\n",
    "When generating text with an LLM, the output length affects cost and performance. Generating more tokens increases computation, leading to higher energy consumption, latency, and cost.\n",
    "\n",
    "To stop the model from generating tokens past a limit, you can specify the `max_output_tokens` parameter when using the Gemini API. Specifying this parameter does not influence the generation of the output tokens, so the output will not become more stylistically or textually succinct, but it will stop generating tokens once the specified length is reached. Prompt engineering may be required to generate a more complete output for your given limit."
   ]
  },
  {
   "cell_type": "code",
   "execution_count": 13,
   "id": "58994cac",
   "metadata": {
    "execution": {
     "iopub.execute_input": "2025-03-31T19:22:47.494680Z",
     "iopub.status.busy": "2025-03-31T19:22:47.494293Z",
     "iopub.status.idle": "2025-03-31T19:22:48.993759Z",
     "shell.execute_reply": "2025-03-31T19:22:48.992368Z"
    },
    "id": "qVf23JsIi9ma",
    "papermill": {
     "duration": 1.516675,
     "end_time": "2025-03-31T19:22:48.996337",
     "exception": false,
     "start_time": "2025-03-31T19:22:47.479662",
     "status": "completed"
    },
    "tags": []
   },
   "outputs": [
    {
     "name": "stdout",
     "output_type": "stream",
     "text": [
      "## The Enduring Green (and Black) Power: The Importance of Olives in Modern Society\n",
      "\n",
      "The humble olive, a small fruit born on gnarled and ancient trees, has an impact on modern society that stretches far beyond its familiar presence on antipasto platters and in martini glasses. From its foundational role in global cuisine and health to its influence on economies and cultures, the olive's importance is deeply woven into the fabric of our contemporary world. This essay will explore the multifaceted significance of olives, highlighting their contributions to gastronomy, health and wellness, economic stability, cultural identity, and sustainable practices.\n",
      "\n",
      "One of the most immediate and impactful ways olives demonstrate their importance is through their contribution to gastronomy. Olive oil, pressed from the fruit, is a cornerstone of the Mediterranean diet, a globally recognized model for healthy eating. It forms the foundation for countless dishes, adding a distinctive flavor and richness that elevates everything from simple salads to complex stews. Its versatility extends beyond just flavor, as it\n"
     ]
    }
   ],
   "source": [
    "from google.genai import types\n",
    "\n",
    "short_config = types.GenerateContentConfig(max_output_tokens=200)\n",
    "\n",
    "response = client.models.generate_content(\n",
    "    model='gemini-2.0-flash',\n",
    "    config=short_config,\n",
    "    contents='Write a 1000 word essay on the importance of olives in modern society.')\n",
    "\n",
    "print(response.text)"
   ]
  },
  {
   "cell_type": "code",
   "execution_count": 14,
   "id": "b9c9d241",
   "metadata": {
    "execution": {
     "iopub.execute_input": "2025-03-31T19:22:49.026502Z",
     "iopub.status.busy": "2025-03-31T19:22:49.026132Z",
     "iopub.status.idle": "2025-03-31T19:22:49.919391Z",
     "shell.execute_reply": "2025-03-31T19:22:49.918002Z"
    },
    "id": "W-3kR2F5kdMR",
    "papermill": {
     "duration": 0.9116,
     "end_time": "2025-03-31T19:22:49.922003",
     "exception": false,
     "start_time": "2025-03-31T19:22:49.010403",
     "status": "completed"
    },
    "tags": []
   },
   "outputs": [
    {
     "name": "stdout",
     "output_type": "stream",
     "text": [
      "From ancient groves, a taste survives,\n",
      "The humble olive, still it thrives.\n",
      "In tapenade, or pressed to oil,\n",
      "It graces tables, ease from toil.\n",
      "\n",
      "A Mediterranean heart it beats,\n",
      "In every salad, savory treats.\n",
      "Beyond the brine, a health untold,\n",
      "A tiny treasure, green and gold.\n",
      "\n"
     ]
    }
   ],
   "source": [
    "response = client.models.generate_content(\n",
    "    model='gemini-2.0-flash',\n",
    "    config=short_config,\n",
    "    contents='Write a short poem on the importance of olives in modern society.')\n",
    "\n",
    "print(response.text)"
   ]
  },
  {
   "cell_type": "markdown",
   "id": "df8ce8aa",
   "metadata": {
    "id": "3ZhDSLB6lqqB",
    "papermill": {
     "duration": 0.013596,
     "end_time": "2025-03-31T19:22:49.950945",
     "exception": false,
     "start_time": "2025-03-31T19:22:49.937349",
     "status": "completed"
    },
    "tags": []
   },
   "source": [
    "Explore with your own prompts. Try a prompt with a restrictive output limit and then adjust the prompt to work within that limit."
   ]
  },
  {
   "cell_type": "markdown",
   "id": "110f184e",
   "metadata": {
    "id": "alx-WaAvir_9",
    "papermill": {
     "duration": 0.013377,
     "end_time": "2025-03-31T19:22:49.977797",
     "exception": false,
     "start_time": "2025-03-31T19:22:49.964420",
     "status": "completed"
    },
    "tags": []
   },
   "source": [
    "### Temperature\n",
    "\n",
    "Temperature controls the degree of randomness in token selection. Higher temperatures result in a higher number of candidate tokens from which the next output token is selected, and can produce more diverse results, while lower temperatures have the opposite effect, such that a temperature of 0 results in greedy decoding, selecting the most probable token at each step.\n",
    "\n",
    "Temperature doesn't provide any guarantees of randomness, but it can be used to \"nudge\" the output somewhat."
   ]
  },
  {
   "cell_type": "code",
   "execution_count": 15,
   "id": "05d97dbd",
   "metadata": {
    "execution": {
     "iopub.execute_input": "2025-03-31T19:22:50.006443Z",
     "iopub.status.busy": "2025-03-31T19:22:50.006021Z",
     "iopub.status.idle": "2025-03-31T19:22:51.891879Z",
     "shell.execute_reply": "2025-03-31T19:22:51.890265Z"
    },
    "id": "SHraGMzqnZqt",
    "papermill": {
     "duration": 1.904232,
     "end_time": "2025-03-31T19:22:51.895292",
     "exception": false,
     "start_time": "2025-03-31T19:22:49.991060",
     "status": "completed"
    },
    "tags": []
   },
   "outputs": [
    {
     "name": "stdout",
     "output_type": "stream",
     "text": [
      "Magenta\n",
      " -------------------------\n",
      "Azure.\n",
      " -------------------------\n",
      "Orange.\n",
      " -------------------------\n",
      "Mauve\n",
      " -------------------------\n",
      "Magenta\n",
      " -------------------------\n"
     ]
    }
   ],
   "source": [
    "high_temp_config = types.GenerateContentConfig(temperature=2.0)\n",
    "\n",
    "\n",
    "for _ in range(5):\n",
    "  response = client.models.generate_content(\n",
    "      model='gemini-2.0-flash',\n",
    "      config=high_temp_config,\n",
    "      contents='Pick a random colour... (respond in a single word)')\n",
    "\n",
    "  if response.text:\n",
    "    print(response.text, '-' * 25)"
   ]
  },
  {
   "cell_type": "markdown",
   "id": "5de16fab",
   "metadata": {
    "id": "z3J4pCTuof7e",
    "papermill": {
     "duration": 0.019069,
     "end_time": "2025-03-31T19:22:51.928304",
     "exception": false,
     "start_time": "2025-03-31T19:22:51.909235",
     "status": "completed"
    },
    "tags": []
   },
   "source": [
    "Now try the same prompt with temperature set to zero. Note that the output is not completely deterministic, as other parameters affect token selection, but the results will tend to be more stable."
   ]
  },
  {
   "cell_type": "code",
   "execution_count": 16,
   "id": "3f46e482",
   "metadata": {
    "execution": {
     "iopub.execute_input": "2025-03-31T19:22:51.958356Z",
     "iopub.status.busy": "2025-03-31T19:22:51.957917Z",
     "iopub.status.idle": "2025-03-31T19:22:54.020906Z",
     "shell.execute_reply": "2025-03-31T19:22:54.019627Z"
    },
    "id": "clymkWv-PfUZ",
    "papermill": {
     "duration": 2.081379,
     "end_time": "2025-03-31T19:22:54.023603",
     "exception": false,
     "start_time": "2025-03-31T19:22:51.942224",
     "status": "completed"
    },
    "tags": []
   },
   "outputs": [
    {
     "name": "stdout",
     "output_type": "stream",
     "text": [
      "Azure\n",
      " -------------------------\n",
      "Azure\n",
      " -------------------------\n",
      "Azure\n",
      " -------------------------\n",
      "Azure\n",
      " -------------------------\n",
      "Azure\n",
      " -------------------------\n"
     ]
    }
   ],
   "source": [
    "low_temp_config = types.GenerateContentConfig(temperature=0.0)\n",
    "\n",
    "for _ in range(5):\n",
    "  response = client.models.generate_content(\n",
    "      model='gemini-2.0-flash',\n",
    "      config=low_temp_config,\n",
    "      contents='Pick a random colour... (respond in a single word)')\n",
    "\n",
    "  if response.text:\n",
    "    print(response.text, '-' * 25)"
   ]
  },
  {
   "cell_type": "markdown",
   "id": "bf4d76b4",
   "metadata": {
    "id": "St5nt3vzitsZ",
    "papermill": {
     "duration": 0.013413,
     "end_time": "2025-03-31T19:22:54.051034",
     "exception": false,
     "start_time": "2025-03-31T19:22:54.037621",
     "status": "completed"
    },
    "tags": []
   },
   "source": [
    "### Top-P\n",
    "\n",
    "Like temperature, the top-P parameter is also used to control the diversity of the model's output.\n",
    "\n",
    "Top-P defines the probability threshold that, once cumulatively exceeded, tokens stop being selected as candidates. A top-P of 0 is typically equivalent to greedy decoding, and a top-P of 1 typically selects every token in the model's vocabulary.\n",
    "\n",
    "You may also see top-K referenced in LLM literature. Top-K is not configurable in the Gemini 2.0 series of models, but can be changed in older models. Top-K is a positive integer that defines the number of most probable tokens from which to select the output token. A top-K of 1 selects a single token, performing greedy decoding.\n",
    "\n",
    "\n",
    "Run this example a number of times, change the settings and observe the change in output."
   ]
  },
  {
   "cell_type": "code",
   "execution_count": 17,
   "id": "393d2c4e",
   "metadata": {
    "execution": {
     "iopub.execute_input": "2025-03-31T19:22:54.081864Z",
     "iopub.status.busy": "2025-03-31T19:22:54.081389Z",
     "iopub.status.idle": "2025-03-31T19:22:59.154256Z",
     "shell.execute_reply": "2025-03-31T19:22:59.152942Z"
    },
    "id": "lPlzpEavUV8F",
    "papermill": {
     "duration": 5.091663,
     "end_time": "2025-03-31T19:22:59.156753",
     "exception": false,
     "start_time": "2025-03-31T19:22:54.065090",
     "status": "completed"
    },
    "tags": []
   },
   "outputs": [
    {
     "name": "stdout",
     "output_type": "stream",
     "text": [
      "Clementine wasn't your average tabby. Oh, she had the stripes, the purr that vibrated through your bones, and the innate ability to knock things off shelves with a practiced flick of her paw. But beneath the fluffy exterior beat the heart of an explorer. While other cats contentedly napped in sunbeams, Clementine dreamed of the Great Beyond – the mythical land beyond the back fence.\n",
      "\n",
      "The Great Beyond, according to Clementine’s carefully curated knowledge gathered from listening at keyholes, was a place of endless bird song, towering trees that tickled the sky, and maybe, just maybe, a limitless supply of catnip. \n",
      "\n",
      "One crisp autumn morning, armed with a purrfectly sharpened claw and a belly full of tuna, Clementine decided today was the day. She squeezed through the gap in the fence, a feat requiring impressive flexibility and a slight grimace. The world exploded with new smells: damp earth, decaying leaves, and something tantalizingly like freshly baked bread.\n",
      "\n",
      "She ventured into the woods, a tapestry of browns and golds. Towering trees, far grander than the overgrown rose bush in her backyard, loomed over her. The forest floor crackled under her paws, a symphony of rustling leaves. She stalked a particularly plump robin, but it chirped a cheeky farewell and fluttered away. Disappointment was a fleeting emotion for an adventurer like Clementine.\n",
      "\n",
      "Deeper she went, the light dappled and filtered through the canopy. She discovered a babbling brook, a silver ribbon weaving through the trees. Hesitantly, she dipped a paw in, then lapped at the cool, clear water. Never had water tasted so…wild.\n",
      "\n",
      "Then, she saw it. A clearing, bathed in golden sunlight. In the center stood the biggest, bushiest catnip plant Clementine had ever laid eyes on. It was a verdant explosion of green, the air thick with its intoxicating fragrance.\n",
      "\n",
      "Overcome with joy, Clementine launched herself into the plant, rolling, purring, and batting at the leaves. She was in catnip heaven. The world swam in a haze of green and blissful fuzziness.\n",
      "\n",
      "Lost in her euphoric revelry, Clementine didn’t notice the shadow looming over her. A creature, bigger and fiercer than anything she'd ever encountered, stood silhouetted against the sun. It was a fox, its eyes glinting with predatory hunger.\n",
      "\n",
      "Fear jolted Clementine awake. The catnip-induced haze dissipated. She puffed up her fur, hissed, and spat, trying to appear as large and intimidating as possible.\n",
      "\n",
      "The fox, surprisingly, didn't pounce. Instead, it tilted its head, regarding her with an almost amused expression. Then, it barked – a surprisingly high-pitched sound – and turned away, disappearing into the undergrowth.\n",
      "\n",
      "Clementine, still trembling, felt a surge of relief, quickly followed by a strange feeling of…respect. She had faced a predator and survived. She was a true adventurer.\n",
      "\n",
      "As dusk settled, casting long shadows across the forest, Clementine knew it was time to return. She had seen the Great Beyond, tasted its delights, and faced its dangers. \n",
      "\n",
      "Squeezing back through the fence, a little muddier and a lot wiser, Clementine found herself in her familiar backyard. The familiar smells of her human and the comforting sight of her favorite scratching post welcomed her.\n",
      "\n",
      "She jumped onto the windowsill, purring a quiet song of adventure. The Great Beyond was a magical place, but home, with its tuna and comfy blankets, was a worthy prize, too. And who knew? Maybe tomorrow, she'd venture out again, seeking new thrills and sniffing out more of the world, one whisker twitch at a time. After all, Clementine, the adventurous tabby, had a whole world to explore.\n",
      "\n"
     ]
    }
   ],
   "source": [
    "model_config = types.GenerateContentConfig(\n",
    "    # These are the default values for gemini-2.0-flash.\n",
    "    temperature=1.0,\n",
    "    top_p=0.95,\n",
    ")\n",
    "\n",
    "story_prompt = \"You are a creative writer. Write a short story about a cat who goes on an adventure.\"\n",
    "response = client.models.generate_content(\n",
    "    model='gemini-2.0-flash',\n",
    "    config=model_config,\n",
    "    contents=story_prompt)\n",
    "\n",
    "print(response.text)"
   ]
  },
  {
   "cell_type": "markdown",
   "id": "4b047667",
   "metadata": {
    "id": "rMrYs1koY6DX",
    "papermill": {
     "duration": 0.013611,
     "end_time": "2025-03-31T19:22:59.185283",
     "exception": false,
     "start_time": "2025-03-31T19:22:59.171672",
     "status": "completed"
    },
    "tags": []
   },
   "source": [
    "## Prompting\n",
    "\n",
    "This section contains some prompts from the chapter for you to try out directly in the API. Try changing the text here to see how each prompt performs with different instructions, more examples, or any other changes you can think of."
   ]
  },
  {
   "cell_type": "markdown",
   "id": "48749316",
   "metadata": {
    "id": "hhj_tQidZJP7",
    "papermill": {
     "duration": 0.013371,
     "end_time": "2025-03-31T19:22:59.212858",
     "exception": false,
     "start_time": "2025-03-31T19:22:59.199487",
     "status": "completed"
    },
    "tags": []
   },
   "source": [
    "### Zero-shot\n",
    "\n",
    "Zero-shot prompts are prompts that describe the request for the model directly.\n",
    "\n",
    "<table align=left>\n",
    "  <td>\n",
    "    <a target=\"_blank\" href=\"https://aistudio.google.com/prompts/1gzKKgDHwkAvexG5Up0LMtl1-6jKMKe4g\"><img src=\"https://ai.google.dev/site-assets/images/marketing/home/icon-ais.png\" style=\"height: 24px\" height=24/> Open in AI Studio</a>\n",
    "  </td>\n",
    "</table>"
   ]
  },
  {
   "cell_type": "code",
   "execution_count": 18,
   "id": "ac3f7c75",
   "metadata": {
    "execution": {
     "iopub.execute_input": "2025-03-31T19:22:59.242895Z",
     "iopub.status.busy": "2025-03-31T19:22:59.242392Z",
     "iopub.status.idle": "2025-03-31T19:22:59.628435Z",
     "shell.execute_reply": "2025-03-31T19:22:59.626773Z"
    },
    "id": "1_t-cwnDZzbH",
    "papermill": {
     "duration": 0.404486,
     "end_time": "2025-03-31T19:22:59.630929",
     "exception": false,
     "start_time": "2025-03-31T19:22:59.226443",
     "status": "completed"
    },
    "tags": []
   },
   "outputs": [
    {
     "name": "stdout",
     "output_type": "stream",
     "text": [
      "POSITIVE\n",
      "\n"
     ]
    }
   ],
   "source": [
    "model_config = types.GenerateContentConfig(\n",
    "    temperature=0.1,\n",
    "    top_p=1,\n",
    "    max_output_tokens=5,\n",
    ")\n",
    "\n",
    "zero_shot_prompt = \"\"\"Classify movie reviews as POSITIVE, NEUTRAL or NEGATIVE.\n",
    "Review: \"Her\" is a disturbing study revealing the direction\n",
    "humanity is headed if AI is allowed to keep evolving,\n",
    "unchecked. I wish there were more movies like this masterpiece.\n",
    "Sentiment: \"\"\"\n",
    "\n",
    "response = client.models.generate_content(\n",
    "    model='gemini-2.0-flash',\n",
    "    config=model_config,\n",
    "    contents=zero_shot_prompt)\n",
    "\n",
    "print(response.text)"
   ]
  },
  {
   "cell_type": "markdown",
   "id": "fd329943",
   "metadata": {
    "id": "3b5568bdeb11",
    "papermill": {
     "duration": 0.014485,
     "end_time": "2025-03-31T19:22:59.659208",
     "exception": false,
     "start_time": "2025-03-31T19:22:59.644723",
     "status": "completed"
    },
    "tags": []
   },
   "source": [
    "#### Enum mode\n",
    "\n",
    "The models are trained to generate text, and while the Gemini 2.0 models are great at following instructions, other models can sometimes produce more text than you may wish for. In the preceding example, the model will output the label, but sometimes it can include a preceding \"Sentiment\" label, and without an output token limit, it may also add explanatory text afterwards. See [this prompt in AI Studio](https://aistudio.google.com/prompts/1gzKKgDHwkAvexG5Up0LMtl1-6jKMKe4g) for an example.\n",
    "\n",
    "The Gemini API has an [Enum mode](https://github.com/google-gemini/cookbook/blob/main/quickstarts/Enum.ipynb) feature that allows you to constrain the output to a fixed set of values."
   ]
  },
  {
   "cell_type": "code",
   "execution_count": 19,
   "id": "76b4e12c",
   "metadata": {
    "execution": {
     "iopub.execute_input": "2025-03-31T19:22:59.692713Z",
     "iopub.status.busy": "2025-03-31T19:22:59.692198Z",
     "iopub.status.idle": "2025-03-31T19:23:00.317305Z",
     "shell.execute_reply": "2025-03-31T19:23:00.315971Z"
    },
    "id": "ad118a56c598",
    "papermill": {
     "duration": 0.645227,
     "end_time": "2025-03-31T19:23:00.320329",
     "exception": false,
     "start_time": "2025-03-31T19:22:59.675102",
     "status": "completed"
    },
    "tags": []
   },
   "outputs": [
    {
     "name": "stdout",
     "output_type": "stream",
     "text": [
      "positive\n"
     ]
    }
   ],
   "source": [
    "import enum\n",
    "\n",
    "class Sentiment(enum.Enum):\n",
    "    POSITIVE = \"positive\"\n",
    "    NEUTRAL = \"neutral\"\n",
    "    NEGATIVE = \"negative\"\n",
    "\n",
    "\n",
    "response = client.models.generate_content(\n",
    "    model='gemini-2.0-flash',\n",
    "    config=types.GenerateContentConfig(\n",
    "        response_mime_type=\"text/x.enum\",\n",
    "        response_schema=Sentiment\n",
    "    ),\n",
    "    contents=zero_shot_prompt)\n",
    "\n",
    "print(response.text)"
   ]
  },
  {
   "cell_type": "markdown",
   "id": "ae468128",
   "metadata": {
    "papermill": {
     "duration": 0.015778,
     "end_time": "2025-03-31T19:23:00.353570",
     "exception": false,
     "start_time": "2025-03-31T19:23:00.337792",
     "status": "completed"
    },
    "tags": []
   },
   "source": [
    "When using constrained output like an enum, the Python SDK will attempt to convert the model's text response into a Python object automatically. It's stored in the `response.parsed` field."
   ]
  },
  {
   "cell_type": "code",
   "execution_count": 20,
   "id": "9ccb38de",
   "metadata": {
    "execution": {
     "iopub.execute_input": "2025-03-31T19:23:00.384978Z",
     "iopub.status.busy": "2025-03-31T19:23:00.384512Z",
     "iopub.status.idle": "2025-03-31T19:23:00.390427Z",
     "shell.execute_reply": "2025-03-31T19:23:00.389304Z"
    },
    "papermill": {
     "duration": 0.024689,
     "end_time": "2025-03-31T19:23:00.392906",
     "exception": false,
     "start_time": "2025-03-31T19:23:00.368217",
     "status": "completed"
    },
    "tags": []
   },
   "outputs": [
    {
     "name": "stdout",
     "output_type": "stream",
     "text": [
      "Sentiment.POSITIVE\n",
      "<enum 'Sentiment'>\n"
     ]
    }
   ],
   "source": [
    "enum_response = response.parsed\n",
    "print(enum_response)\n",
    "print(type(enum_response))"
   ]
  },
  {
   "cell_type": "markdown",
   "id": "9498f52c",
   "metadata": {
    "id": "0udiSwNbv45W",
    "papermill": {
     "duration": 0.014006,
     "end_time": "2025-03-31T19:23:00.421857",
     "exception": false,
     "start_time": "2025-03-31T19:23:00.407851",
     "status": "completed"
    },
    "tags": []
   },
   "source": [
    "### One-shot and few-shot\n",
    "\n",
    "Providing an example of the expected response is known as a \"one-shot\" prompt. When you provide multiple examples, it is a \"few-shot\" prompt.\n",
    "\n",
    "<table align=left>\n",
    "  <td>\n",
    "    <a target=\"_blank\" href=\"https://aistudio.google.com/prompts/1jjWkjUSoMXmLvMJ7IzADr_GxHPJVV2bg\"><img src=\"https://ai.google.dev/site-assets/images/marketing/home/icon-ais.png\" style=\"height: 24px\" height=24/> Open in AI Studio</a>\n",
    "  </td>\n",
    "</table>\n"
   ]
  },
  {
   "cell_type": "code",
   "execution_count": 21,
   "id": "c9230b4d",
   "metadata": {
    "execution": {
     "iopub.execute_input": "2025-03-31T19:23:00.453141Z",
     "iopub.status.busy": "2025-03-31T19:23:00.452752Z",
     "iopub.status.idle": "2025-03-31T19:23:00.936003Z",
     "shell.execute_reply": "2025-03-31T19:23:00.934499Z"
    },
    "id": "hd4mVUukwOKZ",
    "papermill": {
     "duration": 0.50242,
     "end_time": "2025-03-31T19:23:00.938815",
     "exception": false,
     "start_time": "2025-03-31T19:23:00.436395",
     "status": "completed"
    },
    "tags": []
   },
   "outputs": [
    {
     "name": "stdout",
     "output_type": "stream",
     "text": [
      "```json\n",
      "{\n",
      "\"size\": \"large\",\n",
      "\"type\": \"normal\",\n",
      "\"ingredients\": [\"cheese\", \"pineapple\"]\n",
      "}\n",
      "```\n",
      "\n"
     ]
    }
   ],
   "source": [
    "few_shot_prompt = \"\"\"Parse a customer's pizza order into valid JSON:\n",
    "\n",
    "EXAMPLE:\n",
    "I want a small pizza with cheese, tomato sauce, and pepperoni.\n",
    "JSON Response:\n",
    "```\n",
    "{\n",
    "\"size\": \"small\",\n",
    "\"type\": \"normal\",\n",
    "\"ingredients\": [\"cheese\", \"tomato sauce\", \"pepperoni\"]\n",
    "}\n",
    "```\n",
    "\n",
    "EXAMPLE:\n",
    "Can I get a large pizza with tomato sauce, basil and mozzarella\n",
    "JSON Response:\n",
    "```\n",
    "{\n",
    "\"size\": \"large\",\n",
    "\"type\": \"normal\",\n",
    "\"ingredients\": [\"tomato sauce\", \"basil\", \"mozzarella\"]\n",
    "}\n",
    "```\n",
    "\n",
    "ORDER:\n",
    "\"\"\"\n",
    "\n",
    "customer_order = \"Give me a large with cheese & pineapple\"\n",
    "\n",
    "response = client.models.generate_content(\n",
    "    model='gemini-2.0-flash',\n",
    "    config=types.GenerateContentConfig(\n",
    "        temperature=0.1,\n",
    "        top_p=1,\n",
    "        max_output_tokens=250,\n",
    "    ),\n",
    "    contents=[few_shot_prompt, customer_order])\n",
    "\n",
    "print(response.text)"
   ]
  },
  {
   "cell_type": "markdown",
   "id": "682ec5ae",
   "metadata": {
    "id": "021293096f08",
    "papermill": {
     "duration": 0.014417,
     "end_time": "2025-03-31T19:23:00.968365",
     "exception": false,
     "start_time": "2025-03-31T19:23:00.953948",
     "status": "completed"
    },
    "tags": []
   },
   "source": [
    "#### JSON mode\n",
    "\n",
    "To provide control over the schema, and to ensure that you only receive JSON (with no other text or markdown), you can use the Gemini API's [JSON mode](https://github.com/google-gemini/cookbook/blob/main/quickstarts/JSON_mode.ipynb). This forces the model to constrain decoding, such that token selection is guided by the supplied schema."
   ]
  },
  {
   "cell_type": "code",
   "execution_count": 22,
   "id": "6ca2f448",
   "metadata": {
    "execution": {
     "iopub.execute_input": "2025-03-31T19:23:01.000530Z",
     "iopub.status.busy": "2025-03-31T19:23:01.000069Z",
     "iopub.status.idle": "2025-03-31T19:23:01.575198Z",
     "shell.execute_reply": "2025-03-31T19:23:01.573586Z"
    },
    "id": "50fbf0260912",
    "papermill": {
     "duration": 0.594208,
     "end_time": "2025-03-31T19:23:01.577516",
     "exception": false,
     "start_time": "2025-03-31T19:23:00.983308",
     "status": "completed"
    },
    "tags": []
   },
   "outputs": [
    {
     "name": "stdout",
     "output_type": "stream",
     "text": [
      "{\n",
      "  \"size\": \"large\",\n",
      "  \"ingredients\": [\"apple\", \"chocolate\"],\n",
      "  \"type\": \"dessert\"\n",
      "}\n"
     ]
    }
   ],
   "source": [
    "import typing_extensions as typing\n",
    "\n",
    "class PizzaOrder(typing.TypedDict):\n",
    "    size: str\n",
    "    ingredients: list[str]\n",
    "    type: str\n",
    "\n",
    "\n",
    "response = client.models.generate_content(\n",
    "    model='gemini-2.0-flash',\n",
    "    config=types.GenerateContentConfig(\n",
    "        temperature=0.1,\n",
    "        response_mime_type=\"application/json\",\n",
    "        response_schema=PizzaOrder,\n",
    "    ),\n",
    "    contents=\"Can I have a large dessert pizza with apple and chocolate\")\n",
    "\n",
    "print(response.text)"
   ]
  },
  {
   "cell_type": "markdown",
   "id": "504b893c",
   "metadata": {
    "id": "4a93e338e57c",
    "papermill": {
     "duration": 0.013763,
     "end_time": "2025-03-31T19:23:01.605952",
     "exception": false,
     "start_time": "2025-03-31T19:23:01.592189",
     "status": "completed"
    },
    "tags": []
   },
   "source": [
    "### Chain of Thought (CoT)\n",
    "\n",
    "Direct prompting on LLMs can return answers quickly and (in terms of output token usage) efficiently, but they can be prone to hallucination. The answer may \"look\" correct (in terms of language and syntax) but is incorrect in terms of factuality and reasoning.\n",
    "\n",
    "Chain-of-Thought prompting is a technique where you instruct the model to output intermediate reasoning steps, and it typically gets better results, especially when combined with few-shot examples. It is worth noting that this technique doesn't completely eliminate hallucinations, and that it tends to cost more to run, due to the increased token count.\n",
    "\n",
    "Models like the Gemini family are trained to be \"chatty\" or \"thoughtful\" and will provide reasoning steps without prompting, so for this simple example you can ask the model to be more direct in the prompt to force a non-reasoning response. Try re-running this step if the model gets lucky and gets the answer correct on the first try."
   ]
  },
  {
   "cell_type": "code",
   "execution_count": 23,
   "id": "7cd2410b",
   "metadata": {
    "execution": {
     "iopub.execute_input": "2025-03-31T19:23:01.636738Z",
     "iopub.status.busy": "2025-03-31T19:23:01.636267Z",
     "iopub.status.idle": "2025-03-31T19:23:01.956062Z",
     "shell.execute_reply": "2025-03-31T19:23:01.954715Z"
    },
    "id": "5715555db1c1",
    "papermill": {
     "duration": 0.3387,
     "end_time": "2025-03-31T19:23:01.958958",
     "exception": false,
     "start_time": "2025-03-31T19:23:01.620258",
     "status": "completed"
    },
    "tags": []
   },
   "outputs": [
    {
     "name": "stdout",
     "output_type": "stream",
     "text": [
      "48\n",
      "\n"
     ]
    }
   ],
   "source": [
    "prompt = \"\"\"When I was 4 years old, my partner was 3 times my age. Now, I\n",
    "am 20 years old. How old is my partner? Return the answer directly.\"\"\"\n",
    "\n",
    "response = client.models.generate_content(\n",
    "    model='gemini-2.0-flash',\n",
    "    contents=prompt)\n",
    "\n",
    "print(response.text)"
   ]
  },
  {
   "cell_type": "markdown",
   "id": "5da1ac3e",
   "metadata": {
    "id": "e12b19677bfd",
    "papermill": {
     "duration": 0.015095,
     "end_time": "2025-03-31T19:23:01.989268",
     "exception": false,
     "start_time": "2025-03-31T19:23:01.974173",
     "status": "completed"
    },
    "tags": []
   },
   "source": [
    "Now try the same approach, but indicate to the model that it should \"think step by step\"."
   ]
  },
  {
   "cell_type": "code",
   "execution_count": 24,
   "id": "3e008a14",
   "metadata": {
    "execution": {
     "iopub.execute_input": "2025-03-31T19:23:02.021355Z",
     "iopub.status.busy": "2025-03-31T19:23:02.020961Z",
     "iopub.status.idle": "2025-03-31T19:24:03.772224Z",
     "shell.execute_reply": "2025-03-31T19:24:03.770941Z"
    },
    "id": "ffd7536a481f",
    "papermill": {
     "duration": 61.783946,
     "end_time": "2025-03-31T19:24:03.788402",
     "exception": false,
     "start_time": "2025-03-31T19:23:02.004456",
     "status": "completed"
    },
    "tags": []
   },
   "outputs": [
    {
     "data": {
      "text/markdown": [
       "Here's how to solve the problem:\n",
       "\n",
       "1. **Find the age difference:** When you were 4, your partner was 3 times your age, so they were 4 * 3 = 12 years old.\n",
       "2. **Calculate the age difference:** The age difference between you and your partner is 12 - 4 = 8 years.\n",
       "3. **Determine partner's current age:** Since your partner is always 8 years older than you, and you are now 20, your partner is 20 + 8 = 28 years old.\n",
       "\n",
       "**Answer:** Your partner is 28 years old.\n"
      ],
      "text/plain": [
       "<IPython.core.display.Markdown object>"
      ]
     },
     "execution_count": 24,
     "metadata": {},
     "output_type": "execute_result"
    }
   ],
   "source": [
    "prompt = \"\"\"When I was 4 years old, my partner was 3 times my age. Now,\n",
    "I am 20 years old. How old is my partner? Let's think step by step.\"\"\"\n",
    "\n",
    "response = client.models.generate_content(\n",
    "    model='gemini-2.0-flash',\n",
    "    contents=prompt)\n",
    "\n",
    "Markdown(response.text)"
   ]
  },
  {
   "cell_type": "markdown",
   "id": "dee65033",
   "metadata": {
    "id": "oiLgBQJj0V53",
    "papermill": {
     "duration": 0.01401,
     "end_time": "2025-03-31T19:24:03.816756",
     "exception": false,
     "start_time": "2025-03-31T19:24:03.802746",
     "status": "completed"
    },
    "tags": []
   },
   "source": [
    "### ReAct: Reason and act\n",
    "\n",
    "In this example you will run a ReAct prompt directly in the Gemini API and perform the searching steps yourself. As this prompt follows a well-defined structure, there are frameworks available that wrap the prompt into easier-to-use APIs that make tool calls automatically, such as the LangChain example from the \"Prompting\" whitepaper.\n",
    "\n",
    "To try this out with the Wikipedia search engine, check out the [Searching Wikipedia with ReAct](https://github.com/google-gemini/cookbook/blob/main/examples/Search_Wikipedia_using_ReAct.ipynb) cookbook example.\n",
    "\n",
    "\n",
    "> Note: The prompt and in-context examples used here are from [https://github.com/ysymyth/ReAct](https://github.com/ysymyth/ReAct) which is published under an [MIT license](https://opensource.org/licenses/MIT), Copyright (c) 2023 Shunyu Yao.\n",
    "\n",
    "<table align=left>\n",
    "  <td>\n",
    "    <a target=\"_blank\" href=\"https://aistudio.google.com/prompts/18oo63Lwosd-bQ6Ay51uGogB3Wk3H8XMO\"><img src=\"https://ai.google.dev/site-assets/images/marketing/home/icon-ais.png\" style=\"height: 24px\" height=24/> Open in AI Studio</a>\n",
    "  </td>\n",
    "</table>\n"
   ]
  },
  {
   "cell_type": "code",
   "execution_count": 25,
   "id": "294cd91c",
   "metadata": {
    "execution": {
     "iopub.execute_input": "2025-03-31T19:24:03.847485Z",
     "iopub.status.busy": "2025-03-31T19:24:03.847071Z",
     "iopub.status.idle": "2025-03-31T19:24:03.854083Z",
     "shell.execute_reply": "2025-03-31T19:24:03.852700Z"
    },
    "id": "cBgyNJ5z0VSs",
    "papermill": {
     "duration": 0.025302,
     "end_time": "2025-03-31T19:24:03.856221",
     "exception": false,
     "start_time": "2025-03-31T19:24:03.830919",
     "status": "completed"
    },
    "tags": []
   },
   "outputs": [],
   "source": [
    "model_instructions = \"\"\"\n",
    "Solve a question answering task with interleaving Thought, Action, Observation steps. Thought can reason about the current situation,\n",
    "Observation is understanding relevant information from an Action's output and Action can be one of three types:\n",
    " (1) <search>entity</search>, which searches the exact entity on Wikipedia and returns the first paragraph if it exists. If not, it\n",
    "     will return some similar entities to search and you can try to search the information from those topics.\n",
    " (2) <lookup>keyword</lookup>, which returns the next sentence containing keyword in the current context. This only does exact matches,\n",
    "     so keep your searches short.\n",
    " (3) <finish>answer</finish>, which returns the answer and finishes the task.\n",
    "\"\"\"\n",
    "\n",
    "example1 = \"\"\"Question\n",
    "Musician and satirist Allie Goertz wrote a song about the \"The Simpsons\" character Milhouse, who Matt Groening named after who?\n",
    "\n",
    "Thought 1\n",
    "The question simplifies to \"The Simpsons\" character Milhouse is named after who. I only need to search Milhouse and find who it is named after.\n",
    "\n",
    "Action 1\n",
    "<search>Milhouse</search>\n",
    "\n",
    "Observation 1\n",
    "Milhouse Mussolini Van Houten is a recurring character in the Fox animated television series The Simpsons voiced by Pamela Hayden and created by Matt Groening.\n",
    "\n",
    "Thought 2\n",
    "The paragraph does not tell who Milhouse is named after, maybe I can look up \"named after\".\n",
    "\n",
    "Action 2\n",
    "<lookup>named after</lookup>\n",
    "\n",
    "Observation 2\n",
    "Milhouse was named after U.S. president Richard Nixon, whose middle name was Milhous.\n",
    "\n",
    "Thought 3\n",
    "Milhouse was named after U.S. president Richard Nixon, so the answer is Richard Nixon.\n",
    "\n",
    "Action 3\n",
    "<finish>Richard Nixon</finish>\n",
    "\"\"\"\n",
    "\n",
    "example2 = \"\"\"Question\n",
    "What is the elevation range for the area that the eastern sector of the Colorado orogeny extends into?\n",
    "\n",
    "Thought 1\n",
    "I need to search Colorado orogeny, find the area that the eastern sector of the Colorado orogeny extends into, then find the elevation range of the area.\n",
    "\n",
    "Action 1\n",
    "<search>Colorado orogeny</search>\n",
    "\n",
    "Observation 1\n",
    "The Colorado orogeny was an episode of mountain building (an orogeny) in Colorado and surrounding areas.\n",
    "\n",
    "Thought 2\n",
    "It does not mention the eastern sector. So I need to look up eastern sector.\n",
    "\n",
    "Action 2\n",
    "<lookup>eastern sector</lookup>\n",
    "\n",
    "Observation 2\n",
    "The eastern sector extends into the High Plains and is called the Central Plains orogeny.\n",
    "\n",
    "Thought 3\n",
    "The eastern sector of Colorado orogeny extends into the High Plains. So I need to search High Plains and find its elevation range.\n",
    "\n",
    "Action 3\n",
    "<search>High Plains</search>\n",
    "\n",
    "Observation 3\n",
    "High Plains refers to one of two distinct land regions\n",
    "\n",
    "Thought 4\n",
    "I need to instead search High Plains (United States).\n",
    "\n",
    "Action 4\n",
    "<search>High Plains (United States)</search>\n",
    "\n",
    "Observation 4\n",
    "The High Plains are a subregion of the Great Plains. From east to west, the High Plains rise in elevation from around 1,800 to 7,000 ft (550 to 2,130m).\n",
    "\n",
    "Thought 5\n",
    "High Plains rise in elevation from around 1,800 to 7,000 ft, so the answer is 1,800 to 7,000 ft.\n",
    "\n",
    "Action 5\n",
    "<finish>1,800 to 7,000 ft</finish>\n",
    "\"\"\"\n",
    "\n",
    "# Come up with more examples yourself, or take a look through https://github.com/ysymyth/ReAct/"
   ]
  },
  {
   "cell_type": "markdown",
   "id": "1dfa65e8",
   "metadata": {
    "id": "C3wbfstjTgey",
    "papermill": {
     "duration": 0.014428,
     "end_time": "2025-03-31T19:24:03.884710",
     "exception": false,
     "start_time": "2025-03-31T19:24:03.870282",
     "status": "completed"
    },
    "tags": []
   },
   "source": [
    "To capture a single step at a time, while ignoring any hallucinated Observation steps, you will use `stop_sequences` to end the generation process. The steps are `Thought`, `Action`, `Observation`, in that order."
   ]
  },
  {
   "cell_type": "code",
   "execution_count": 26,
   "id": "b41e032f",
   "metadata": {
    "execution": {
     "iopub.execute_input": "2025-03-31T19:24:03.915464Z",
     "iopub.status.busy": "2025-03-31T19:24:03.915022Z",
     "iopub.status.idle": "2025-03-31T19:24:04.448202Z",
     "shell.execute_reply": "2025-03-31T19:24:04.447002Z"
    },
    "id": "8mxrXRkRTdXm",
    "papermill": {
     "duration": 0.551827,
     "end_time": "2025-03-31T19:24:04.450769",
     "exception": false,
     "start_time": "2025-03-31T19:24:03.898942",
     "status": "completed"
    },
    "tags": []
   },
   "outputs": [
    {
     "name": "stdout",
     "output_type": "stream",
     "text": [
      "Thought 1\n",
      "I need to find the transformers NLP paper, find the author list, and then find the youngest author.\n",
      "\n",
      "Action 1\n",
      "<search>transformers NLP paper</search>\n",
      "\n"
     ]
    }
   ],
   "source": [
    "question = \"\"\"Question\n",
    "Who was the youngest author listed on the transformers NLP paper?\n",
    "\"\"\"\n",
    "\n",
    "# You will perform the Action; so generate up to, but not including, the Observation.\n",
    "react_config = types.GenerateContentConfig(\n",
    "    stop_sequences=[\"\\nObservation\"],\n",
    "    system_instruction=model_instructions + example1 + example2,\n",
    ")\n",
    "\n",
    "# Create a chat that has the model instructions and examples pre-seeded.\n",
    "react_chat = client.chats.create(\n",
    "    model='gemini-2.0-flash',\n",
    "    config=react_config,\n",
    ")\n",
    "\n",
    "resp = react_chat.send_message(question)\n",
    "print(resp.text)"
   ]
  },
  {
   "cell_type": "markdown",
   "id": "fcdee993",
   "metadata": {
    "id": "aW2PIdLbVv3l",
    "papermill": {
     "duration": 0.014704,
     "end_time": "2025-03-31T19:24:04.480622",
     "exception": false,
     "start_time": "2025-03-31T19:24:04.465918",
     "status": "completed"
    },
    "tags": []
   },
   "source": [
    "Now you can perform this research yourself and supply it back to the model."
   ]
  },
  {
   "cell_type": "code",
   "execution_count": 27,
   "id": "bc257e4f",
   "metadata": {
    "execution": {
     "iopub.execute_input": "2025-03-31T19:24:04.512192Z",
     "iopub.status.busy": "2025-03-31T19:24:04.511807Z",
     "iopub.status.idle": "2025-03-31T19:24:05.277650Z",
     "shell.execute_reply": "2025-03-31T19:24:05.276606Z"
    },
    "id": "mLMc0DZaV9g2",
    "papermill": {
     "duration": 0.784666,
     "end_time": "2025-03-31T19:24:05.280112",
     "exception": false,
     "start_time": "2025-03-31T19:24:04.495446",
     "status": "completed"
    },
    "tags": []
   },
   "outputs": [
    {
     "name": "stdout",
     "output_type": "stream",
     "text": [
      "Thought 1\n",
      "I need to find the youngest author among Ashish Vaswani, Noam Shazeer, Niki Parmar, Jakob Uszkoreit, Llion Jones, Aidan N. Gomez, Lukasz Kaiser, Illia Polosukhin. I will have to search each of these authors to find their birthdates and determine the youngest.\n",
      "\n",
      "Action 1\n",
      "<search>Ashish Vaswani</search>\n",
      "\n"
     ]
    }
   ],
   "source": [
    "observation = \"\"\"Observation 1\n",
    "[1706.03762] Attention Is All You Need\n",
    "Ashish Vaswani, Noam Shazeer, Niki Parmar, Jakob Uszkoreit, Llion Jones, Aidan N. Gomez, Lukasz Kaiser, Illia Polosukhin\n",
    "We propose a new simple network architecture, the Transformer, based solely on attention mechanisms, dispensing with recurrence and convolutions entirely.\n",
    "\"\"\"\n",
    "resp = react_chat.send_message(observation)\n",
    "print(resp.text)"
   ]
  },
  {
   "cell_type": "markdown",
   "id": "1d78e481",
   "metadata": {
    "id": "bo0tzf4nX6dA",
    "papermill": {
     "duration": 0.014901,
     "end_time": "2025-03-31T19:24:05.310784",
     "exception": false,
     "start_time": "2025-03-31T19:24:05.295883",
     "status": "completed"
    },
    "tags": []
   },
   "source": [
    "This process repeats until the `<finish>` action is reached. You can continue running this yourself if you like, or try the [Wikipedia example](https://github.com/google-gemini/cookbook/blob/main/examples/Search_Wikipedia_using_ReAct.ipynb) to see a fully automated ReAct system at work."
   ]
  },
  {
   "cell_type": "markdown",
   "id": "cebc0d59",
   "metadata": {
    "papermill": {
     "duration": 0.014831,
     "end_time": "2025-03-31T19:24:05.340222",
     "exception": false,
     "start_time": "2025-03-31T19:24:05.325391",
     "status": "completed"
    },
    "tags": []
   },
   "source": [
    "## Thinking mode\n",
    "\n",
    "The experiemental Gemini Flash 2.0 \"Thinking\" model has been trained to generate the \"thinking process\" the model goes through as part of its response. As a result, the Flash Thinking model is capable of stronger reasoning capabilities in its responses.\n",
    "\n",
    "Using a \"thinking mode\" model can provide you with high-quality responses without needing specialised prompting like the previous approaches. One reason this technique is effective is that you induce the model to generate relevant information (\"brainstorming\", or \"thoughts\") that is then used as part of the context in which the final response is generated.\n",
    "\n",
    "Note that when you use the API, you get the final response from the model, but the thoughts are not captured. To see the intermediate thoughts, try out [the thinking mode model in AI Studio](https://aistudio.google.com/prompts/new_chat?model=gemini-2.0-flash-thinking-exp-01-21).\n",
    "\n",
    "<table align=left>\n",
    "  <td>\n",
    "    <a target=\"_blank\" href=\"https://aistudio.google.com/prompts/1Z991SV7lZZZqioOiqIUPv9a9ix-ws4zk\"><img src=\"https://ai.google.dev/site-assets/images/marketing/home/icon-ais.png\" style=\"height: 24px\" height=24/> Open in AI Studio</a>\n",
    "  </td>\n",
    "</table>"
   ]
  },
  {
   "cell_type": "code",
   "execution_count": 28,
   "id": "1ea8841e",
   "metadata": {
    "execution": {
     "iopub.execute_input": "2025-03-31T19:24:05.371488Z",
     "iopub.status.busy": "2025-03-31T19:24:05.371127Z",
     "iopub.status.idle": "2025-03-31T19:24:13.176737Z",
     "shell.execute_reply": "2025-03-31T19:24:13.175591Z"
    },
    "papermill": {
     "duration": 7.823793,
     "end_time": "2025-03-31T19:24:13.178901",
     "exception": false,
     "start_time": "2025-03-31T19:24:05.355108",
     "status": "completed"
    },
    "tags": []
   },
   "outputs": [
    {
     "data": {
      "text/markdown": [
       "Based on readily available information, the youngest author listed on the Transformers NLP paper, \"Attention is All You Need\", is likely **Aidan N. Gomez**.\n",
       "\n",
       "Here's why:\n",
       "\n",
       "* **Aidan N. Gomez** was a Master's student at the University of Toronto at the time of the paper's publication in 2017. Master's students are generally younger than PhD students, Postdoctoral researchers, or established researchers at companies like Google.\n",
       "\n",
       "* The other authors, such as Ashish Vaswani, Noam Shazeer, Niki Parmar, Jakob Uszkoreit, Llion Jones, Łukasz Kaiser, and Illia Polosukhin, were all affiliated with Google Brain or the University of Toronto as PhD students or researchers, suggesting they were likely further along in their careers and thus older than a Master's student.\n",
       "\n",
       "**It's important to note:**\n",
       "\n",
       "* **Precise ages are not publicly available for all authors.**  Determining the *absolute* youngest would require knowing the exact birthdates of each author, which is not typically public information.\n",
       "* **\"Youngest\" is relative.**  While Aidan N. Gomez was likely the youngest in terms of career stage at the time, there's a slight chance another author could have been born in a later year but be further along in their career for various reasons.\n",
       "\n",
       "**Therefore, while we cannot be 100% certain without birthdates, Aidan N. Gomez is the most probable youngest author based on publicly available biographical information and typical academic career timelines.**"
      ],
      "text/plain": [
       "<IPython.core.display.Markdown object>"
      ]
     },
     "execution_count": 28,
     "metadata": {},
     "output_type": "execute_result"
    }
   ],
   "source": [
    "import io\n",
    "from IPython.display import Markdown, clear_output\n",
    "\n",
    "\n",
    "response = client.models.generate_content_stream(\n",
    "    model='gemini-2.0-flash-thinking-exp',\n",
    "    contents='Who was the youngest author listed on the transformers NLP paper?',\n",
    ")\n",
    "\n",
    "buf = io.StringIO()\n",
    "for chunk in response:\n",
    "    buf.write(chunk.text)\n",
    "    # Display the response as it is streamed\n",
    "    print(chunk.text, end='')\n",
    "\n",
    "# And then render the finished response as formatted markdown.\n",
    "clear_output()\n",
    "Markdown(buf.getvalue())"
   ]
  },
  {
   "cell_type": "markdown",
   "id": "ebeb17fa",
   "metadata": {
    "id": "jPiZ_eIIaVPt",
    "papermill": {
     "duration": 0.014568,
     "end_time": "2025-03-31T19:24:13.208141",
     "exception": false,
     "start_time": "2025-03-31T19:24:13.193573",
     "status": "completed"
    },
    "tags": []
   },
   "source": [
    "## Code prompting"
   ]
  },
  {
   "cell_type": "markdown",
   "id": "6494e954",
   "metadata": {
    "id": "ZinKamwXeR6C",
    "papermill": {
     "duration": 0.014053,
     "end_time": "2025-03-31T19:24:13.236619",
     "exception": false,
     "start_time": "2025-03-31T19:24:13.222566",
     "status": "completed"
    },
    "tags": []
   },
   "source": [
    "### Generating code\n",
    "\n",
    "The Gemini family of models can be used to generate code, configuration and scripts. Generating code can be helpful when learning to code, learning a new language or for rapidly generating a first draft.\n",
    "\n",
    "It's important to be aware that since LLMs can make mistakes, and can repeat training data, it's essential to read and test your code first, and comply with any relevant licenses.\n",
    "\n",
    "<table align=left>\n",
    "  <td>\n",
    "    <a target=\"_blank\" href=\"https://aistudio.google.com/prompts/1YX71JGtzDjXQkgdes8bP6i3oH5lCRKxv\"><img src=\"https://ai.google.dev/site-assets/images/marketing/home/icon-ais.png\" style=\"height: 24px\" height=24/> Open in AI Studio</a>\n",
    "  </td>\n",
    "</table>"
   ]
  },
  {
   "cell_type": "code",
   "execution_count": 29,
   "id": "9ac96e54",
   "metadata": {
    "execution": {
     "iopub.execute_input": "2025-03-31T19:24:13.268290Z",
     "iopub.status.busy": "2025-03-31T19:24:13.267834Z",
     "iopub.status.idle": "2025-03-31T19:24:13.819498Z",
     "shell.execute_reply": "2025-03-31T19:24:13.818147Z"
    },
    "id": "fOQP9pqmeUO1",
    "papermill": {
     "duration": 0.570148,
     "end_time": "2025-03-31T19:24:13.822051",
     "exception": false,
     "start_time": "2025-03-31T19:24:13.251903",
     "status": "completed"
    },
    "tags": []
   },
   "outputs": [
    {
     "data": {
      "text/markdown": [
       "```python\n",
       "def factorial(n):\n",
       "  \"\"\"\n",
       "  Calculates the factorial of a number.\n",
       "  \"\"\"\n",
       "  if n == 0:\n",
       "    return 1\n",
       "  else:\n",
       "    return n * factorial(n-1)\n",
       "```\n"
      ],
      "text/plain": [
       "<IPython.core.display.Markdown object>"
      ]
     },
     "execution_count": 29,
     "metadata": {},
     "output_type": "execute_result"
    }
   ],
   "source": [
    "# The Gemini models love to talk, so it helps to specify they stick to the code if that\n",
    "# is all that you want.\n",
    "code_prompt = \"\"\"\n",
    "Write a Python function to calculate the factorial of a number. No explanation, provide only the code.\n",
    "\"\"\"\n",
    "\n",
    "response = client.models.generate_content(\n",
    "    model='gemini-2.0-flash',\n",
    "    config=types.GenerateContentConfig(\n",
    "        temperature=1,\n",
    "        top_p=1,\n",
    "        max_output_tokens=1024,\n",
    "    ),\n",
    "    contents=code_prompt)\n",
    "\n",
    "Markdown(response.text)"
   ]
  },
  {
   "cell_type": "markdown",
   "id": "41e59f8d",
   "metadata": {
    "id": "wlBMWSFhgVRQ",
    "papermill": {
     "duration": 0.014339,
     "end_time": "2025-03-31T19:24:13.851240",
     "exception": false,
     "start_time": "2025-03-31T19:24:13.836901",
     "status": "completed"
    },
    "tags": []
   },
   "source": [
    "### Code execution\n",
    "\n",
    "The Gemini API can automatically run generated code too, and will return the output.\n",
    "\n",
    "<table align=left>\n",
    "  <td>\n",
    "    <a target=\"_blank\" href=\"https://aistudio.google.com/prompts/11veFr_VYEwBWcLkhNLr-maCG0G8sS_7Z\"><img src=\"https://ai.google.dev/site-assets/images/marketing/home/icon-ais.png\" style=\"height: 24px\" height=24/> Open in AI Studio</a>\n",
    "  </td>\n",
    "</table>"
   ]
  },
  {
   "cell_type": "code",
   "execution_count": 30,
   "id": "35ee69db",
   "metadata": {
    "execution": {
     "iopub.execute_input": "2025-03-31T19:24:13.883146Z",
     "iopub.status.busy": "2025-03-31T19:24:13.882759Z",
     "iopub.status.idle": "2025-03-31T19:24:15.805470Z",
     "shell.execute_reply": "2025-03-31T19:24:15.804005Z"
    },
    "id": "jT3OfWYfhjRL",
    "papermill": {
     "duration": 1.942146,
     "end_time": "2025-03-31T19:24:15.808200",
     "exception": false,
     "start_time": "2025-03-31T19:24:13.866054",
     "status": "completed"
    },
    "tags": []
   },
   "outputs": [
    {
     "name": "stdout",
     "output_type": "stream",
     "text": [
      "{'text': 'Okay, I can do that. First, I will list the first 14 odd prime '\n",
      "         'numbers, and then I will calculate their sum using a python script. '\n",
      "         'Prime numbers are whole numbers greater than 1 that are only '\n",
      "         'divisible by 1 and themselves. Odd numbers are integers not '\n",
      "         'divisible by 2.\\n'\n",
      "         '\\n'\n",
      "         'The first few prime numbers are 2, 3, 5, 7, 11, 13, 17, 19, 23... '\n",
      "         'Since we need *odd* prime numbers, we exclude 2. Thus, we start with '\n",
      "         '3.\\n'\n",
      "         '\\n'\n",
      "         'Here are the first 14 odd prime numbers: 3, 5, 7, 11, 13, 17, 19, '\n",
      "         '23, 29, 31, 37, 41, 43, 47.\\n'\n",
      "         '\\n'\n",
      "         \"Now, let's calculate their sum using python.\\n\"\n",
      "         '\\n'}\n",
      "-----\n",
      "{'executable_code': {'code': 'numbers = [3, 5, 7, 11, 13, 17, 19, 23, 29, 31, '\n",
      "                             '37, 41, 43, 47]\\n'\n",
      "                             'total = sum(numbers)\\n'\n",
      "                             'print(total)\\n',\n",
      "                     'language': 'PYTHON'}}\n",
      "-----\n",
      "{'code_execution_result': {'outcome': 'OUTCOME_OK', 'output': '326\\n'}}\n",
      "-----\n",
      "{'text': 'The sum of the first 14 odd prime numbers is 326.\\n'}\n",
      "-----\n"
     ]
    }
   ],
   "source": [
    "from pprint import pprint\n",
    "\n",
    "config = types.GenerateContentConfig(\n",
    "    tools=[types.Tool(code_execution=types.ToolCodeExecution())],\n",
    ")\n",
    "\n",
    "code_exec_prompt = \"\"\"\n",
    "Generate the first 14 odd prime numbers, then calculate their sum.\n",
    "\"\"\"\n",
    "\n",
    "response = client.models.generate_content(\n",
    "    model='gemini-2.0-flash',\n",
    "    config=config,\n",
    "    contents=code_exec_prompt)\n",
    "\n",
    "for part in response.candidates[0].content.parts:\n",
    "  pprint(part.to_json_dict())\n",
    "  print(\"-----\")"
   ]
  },
  {
   "cell_type": "markdown",
   "id": "576b18a4",
   "metadata": {
    "id": "ZspT1GSkjG6d",
    "papermill": {
     "duration": 0.01506,
     "end_time": "2025-03-31T19:24:15.838446",
     "exception": false,
     "start_time": "2025-03-31T19:24:15.823386",
     "status": "completed"
    },
    "tags": []
   },
   "source": [
    "This response contains multiple parts, including an opening and closing text part that represent regular responses, an `executable_code` part that represents generated code and a `code_execution_result` part that represents the results from running the generated code.\n",
    "\n",
    "You can explore them individually."
   ]
  },
  {
   "cell_type": "code",
   "execution_count": 31,
   "id": "ec74c17b",
   "metadata": {
    "execution": {
     "iopub.execute_input": "2025-03-31T19:24:15.871338Z",
     "iopub.status.busy": "2025-03-31T19:24:15.870492Z",
     "iopub.status.idle": "2025-03-31T19:24:15.885741Z",
     "shell.execute_reply": "2025-03-31T19:24:15.884627Z"
    },
    "papermill": {
     "duration": 0.034397,
     "end_time": "2025-03-31T19:24:15.887956",
     "exception": false,
     "start_time": "2025-03-31T19:24:15.853559",
     "status": "completed"
    },
    "tags": []
   },
   "outputs": [
    {
     "data": {
      "text/markdown": [
       "Okay, I can do that. First, I will list the first 14 odd prime numbers, and then I will calculate their sum using a python script. Prime numbers are whole numbers greater than 1 that are only divisible by 1 and themselves. Odd numbers are integers not divisible by 2.\n",
       "\n",
       "The first few prime numbers are 2, 3, 5, 7, 11, 13, 17, 19, 23... Since we need *odd* prime numbers, we exclude 2. Thus, we start with 3.\n",
       "\n",
       "Here are the first 14 odd prime numbers: 3, 5, 7, 11, 13, 17, 19, 23, 29, 31, 37, 41, 43, 47.\n",
       "\n",
       "Now, let's calculate their sum using python.\n",
       "\n"
      ],
      "text/plain": [
       "<IPython.core.display.Markdown object>"
      ]
     },
     "metadata": {},
     "output_type": "display_data"
    },
    {
     "data": {
      "text/markdown": [
       "```python\n",
       "numbers = [3, 5, 7, 11, 13, 17, 19, 23, 29, 31, 37, 41, 43, 47]\n",
       "total = sum(numbers)\n",
       "print(total)\n",
       "\n",
       "```"
      ],
      "text/plain": [
       "<IPython.core.display.Markdown object>"
      ]
     },
     "metadata": {},
     "output_type": "display_data"
    },
    {
     "data": {
      "text/markdown": [
       "```\n",
       "326\n",
       "\n",
       "```"
      ],
      "text/plain": [
       "<IPython.core.display.Markdown object>"
      ]
     },
     "metadata": {},
     "output_type": "display_data"
    },
    {
     "data": {
      "text/markdown": [
       "The sum of the first 14 odd prime numbers is 326.\n"
      ],
      "text/plain": [
       "<IPython.core.display.Markdown object>"
      ]
     },
     "metadata": {},
     "output_type": "display_data"
    }
   ],
   "source": [
    "for part in response.candidates[0].content.parts:\n",
    "    if part.text:\n",
    "        display(Markdown(part.text))\n",
    "    elif part.executable_code:\n",
    "        display(Markdown(f'```python\\n{part.executable_code.code}\\n```'))\n",
    "    elif part.code_execution_result:\n",
    "        if part.code_execution_result.outcome != 'OUTCOME_OK':\n",
    "            display(Markdown(f'## Status {part.code_execution_result.outcome}'))\n",
    "\n",
    "        display(Markdown(f'```\\n{part.code_execution_result.output}\\n```'))"
   ]
  },
  {
   "cell_type": "markdown",
   "id": "0c5f23e7",
   "metadata": {
    "id": "1gUX8QzCj4d5",
    "papermill": {
     "duration": 0.015325,
     "end_time": "2025-03-31T19:24:15.918924",
     "exception": false,
     "start_time": "2025-03-31T19:24:15.903599",
     "status": "completed"
    },
    "tags": []
   },
   "source": [
    "### Explaining code\n",
    "\n",
    "The Gemini family of models can explain code to you too. In this example, you pass a [bash script](https://github.com/magicmonty/bash-git-prompt) and ask some questions.\n",
    "\n",
    "<table align=left>\n",
    "  <td>\n",
    "    <a target=\"_blank\" href=\"https://aistudio.google.com/prompts/1N7LGzWzCYieyOf_7bAG4plrmkpDNmUyb\"><img src=\"https://ai.google.dev/site-assets/images/marketing/home/icon-ais.png\" style=\"height: 24px\" height=24/> Open in AI Studio</a>\n",
    "  </td>\n",
    "</table>"
   ]
  },
  {
   "cell_type": "code",
   "execution_count": 32,
   "id": "aa3e38eb",
   "metadata": {
    "execution": {
     "iopub.execute_input": "2025-03-31T19:24:15.952450Z",
     "iopub.status.busy": "2025-03-31T19:24:15.952076Z",
     "iopub.status.idle": "2025-03-31T19:24:18.543794Z",
     "shell.execute_reply": "2025-03-31T19:24:18.542605Z"
    },
    "id": "7_jPMMoxkIEb",
    "papermill": {
     "duration": 2.612003,
     "end_time": "2025-03-31T19:24:18.546196",
     "exception": false,
     "start_time": "2025-03-31T19:24:15.934193",
     "status": "completed"
    },
    "tags": []
   },
   "outputs": [
    {
     "data": {
      "text/markdown": [
       "This file is a Bash script (and partially Zsh compatible) designed to enhance your command-line prompt with information about the current Git repository.\n",
       "\n",
       "**What it does (High-Level):**\n",
       "\n",
       "*   **Git Status Display:**  It retrieves information about the current Git repository (branch, status of changes, remote status, etc.).\n",
       "*   **Customizable Prompt:**  It formats this Git information and integrates it into your command prompt (the line you see before you type a command in your terminal).  The appearance is highly configurable through themes and variables.\n",
       "*   **Asynchronous Updates:**  It can optionally fetch remote Git information in the background to keep the prompt up-to-date without slowing down your typing.\n",
       "*   **Theme Support:** It allows you to customize the colors and symbols used in the prompt by using themes.\n",
       "\n",
       "**Why you would use it:**\n",
       "\n",
       "*   **Instant Git Awareness:** To see the current branch, whether you have uncommitted changes, if you're ahead or behind the remote branch, etc., directly in your prompt. This saves you from having to type `git status` constantly.\n",
       "*   **Improved Workflow:** Provides quick visual cues about your Git repository, helping you avoid mistakes and stay organized.\n",
       "*   **Customization:** To personalize your command prompt to your liking, with different colors, symbols, and information.\n",
       "*   **Virtual Environment Awareness:**  It can optionally display information about the current virtual environment (e.g. Python venv).\n",
       "\n",
       "In essence, this script aims to make working with Git repositories in the command line more efficient and informative by enriching your prompt with real-time Git status.\n"
      ],
      "text/plain": [
       "<IPython.core.display.Markdown object>"
      ]
     },
     "execution_count": 32,
     "metadata": {},
     "output_type": "execute_result"
    }
   ],
   "source": [
    "file_contents = !curl https://raw.githubusercontent.com/magicmonty/bash-git-prompt/refs/heads/master/gitprompt.sh\n",
    "\n",
    "explain_prompt = f\"\"\"\n",
    "Please explain what this file does at a very high level. What is it, and why would I use it?\n",
    "\n",
    "```\n",
    "{file_contents}\n",
    "```\n",
    "\"\"\"\n",
    "\n",
    "response = client.models.generate_content(\n",
    "    model='gemini-2.0-flash',\n",
    "    contents=explain_prompt)\n",
    "\n",
    "Markdown(response.text)"
   ]
  },
  {
   "cell_type": "markdown",
   "id": "8e1480c1",
   "metadata": {
    "id": "2a8266d97ce5",
    "papermill": {
     "duration": 0.015375,
     "end_time": "2025-03-31T19:24:18.578067",
     "exception": false,
     "start_time": "2025-03-31T19:24:18.562692",
     "status": "completed"
    },
    "tags": []
   },
   "source": [
    "## Learn more\n",
    "\n",
    "To learn more about prompting in depth:\n",
    "\n",
    "* Check out the whitepaper issued with today's content,\n",
    "* Try out the apps listed at the top of this notebook ([TextFX](https://textfx.withgoogle.com/), [SQL Talk](https://sql-talk-r5gdynozbq-uc.a.run.app/) and [NotebookLM](https://notebooklm.google/)),\n",
    "* Read the [Introduction to Prompting](https://ai.google.dev/gemini-api/docs/prompting-intro) from the Gemini API docs,\n",
    "* Explore the Gemini API's [prompt gallery](https://ai.google.dev/gemini-api/prompts) and try them out in AI Studio,\n",
    "* Check out the Gemini API cookbook for [inspirational examples](https://github.com/google-gemini/cookbook/blob/main/examples/) and [educational quickstarts](https://github.com/google-gemini/cookbook/blob/main/quickstarts/).\n",
    "\n",
    "Be sure to check out the codelabs on day 3 too, where you will explore some more advanced prompting with code execution.\n",
    "\n",
    "And please share anything exciting you have tried in the Discord!\n",
    "\n",
    "*- [Mark McD](https://linktr.ee/markmcd)*"
   ]
  }
 ],
 "metadata": {
  "colab": {
   "name": "day-1-prompting.ipynb",
   "toc_visible": true
  },
  "kaggle": {
   "accelerator": "none",
   "dataSources": [],
   "dockerImageVersionId": 30786,
   "isGpuEnabled": false,
   "isInternetEnabled": true,
   "language": "python",
   "sourceType": "notebook"
  },
  "kernelspec": {
   "display_name": "Python 3",
   "language": "python",
   "name": "python3"
  },
  "language_info": {
   "codemirror_mode": {
    "name": "ipython",
    "version": 3
   },
   "file_extension": ".py",
   "mimetype": "text/x-python",
   "name": "python",
   "nbconvert_exporter": "python",
   "pygments_lexer": "ipython3",
   "version": "3.10.14"
  },
  "papermill": {
   "default_parameters": {},
   "duration": 123.258472,
   "end_time": "2025-03-31T19:24:19.320437",
   "environment_variables": {},
   "exception": null,
   "input_path": "__notebook__.ipynb",
   "output_path": "__notebook__.ipynb",
   "parameters": {},
   "start_time": "2025-03-31T19:22:16.061965",
   "version": "2.6.0"
  }
 },
 "nbformat": 4,
 "nbformat_minor": 5
}
